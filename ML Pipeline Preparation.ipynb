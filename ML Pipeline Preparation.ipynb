{
 "cells": [
  {
   "cell_type": "markdown",
   "metadata": {},
   "source": [
    "# ML Pipeline Preparation\n",
    "Follow the instructions below to help you create your ML pipeline.\n",
    "### 1. Import libraries and load data from database.\n",
    "- Import Python libraries\n",
    "- Load dataset from database with [`read_sql_table`](https://pandas.pydata.org/pandas-docs/stable/generated/pandas.read_sql_table.html)\n",
    "- Define feature and target variables X and Y"
   ]
  },
  {
   "cell_type": "code",
   "execution_count": 1,
   "metadata": {},
   "outputs": [],
   "source": [
    "# %pip install --user xgboost\n",
    "# !conda install -c anaconda py-xgboost"
   ]
  },
  {
   "cell_type": "code",
   "execution_count": 2,
   "metadata": {},
   "outputs": [
    {
     "name": "stderr",
     "output_type": "stream",
     "text": [
      "/Users/Jon/.local/lib/python3.7/site-packages/pandas/compat/__init__.py:117: UserWarning: Could not import the lzma module. Your installed Python is incomplete. Attempting to use lzma compression will result in a RuntimeError.\n",
      "  warnings.warn(msg)\n",
      "[nltk_data] Downloading package stopwords to /Users/Jon/nltk_data...\n",
      "[nltk_data]   Package stopwords is already up-to-date!\n",
      "[nltk_data] Downloading package wordnet to /Users/Jon/nltk_data...\n",
      "[nltk_data]   Package wordnet is already up-to-date!\n"
     ]
    }
   ],
   "source": [
    "# import libraries\n",
    "import sqlite3\n",
    "import pandas as pd\n",
    "from nltk.stem import WordNetLemmatizer \n",
    "from sklearn.multioutput import MultiOutputClassifier\n",
    "from sklearn.pipeline import Pipeline\n",
    "from sklearn.feature_extraction.text import TfidfVectorizer\n",
    "from xgboost import XGBClassifier\n",
    "from sklearn.naive_bayes import GaussianNB\n",
    "from sklearn.model_selection import train_test_split, GridSearchCV\n",
    "from sklearn.metrics import classification_report\n",
    "import re, string\n",
    "from sklearn.base import TransformerMixin\n",
    "from joblib import dump, load\n",
    "from workspace_utils import active_session\n",
    "import nltk\n",
    "import ssl\n",
    "\n",
    "try:\n",
    "    _create_unverified_https_context = ssl._create_unverified_context\n",
    "except AttributeError:\n",
    "    pass\n",
    "else:\n",
    "    ssl._create_default_https_context = _create_unverified_https_context\n",
    "\n",
    "nltk.download('stopwords')\n",
    "nltk.download('wordnet')\n",
    "from nltk.corpus import stopwords\n",
    "\n",
    "\n",
    "class DenseTransformer(TransformerMixin):\n",
    "    \"\"\"\n",
    "    Taken from: http://zacstewart.com/2014/08/05/\n",
    "    pipelines-of-featureunions-of-pipelines.html\n",
    "    \"\"\"\n",
    "    def fit(self, X, y=None, **fit_params):\n",
    "        return self\n",
    "    def transform(self, X, y=None, **fit_params):\n",
    "        return X.todense()\n",
    "\n",
    "stop_words = set(stopwords.words('english'))\n",
    "engine = sqlite3.connect('etl.db')"
   ]
  },
  {
   "cell_type": "markdown",
   "metadata": {},
   "source": [
    "### 2. Write a tokenization function to process your text data"
   ]
  },
  {
   "cell_type": "code",
   "execution_count": 3,
   "metadata": {},
   "outputs": [],
   "source": [
    "# load data from database\n",
    "df = pd.read_sql('select * from message_categories', engine)\n",
    "\n",
    "def clean_text(text):\n",
    "    clean_non_ascii = lambda wrd: re.sub(r\"[^{}]\".format(string.ascii_letters), \" \", wrd.lower())\n",
    "    remove_stop_words = lambda text: ' '.join([w for w in text.split() if not w in stop_words])\n",
    "    return WordNetLemmatizer().lemmatize(\n",
    "        remove_stop_words(clean_non_ascii(text))\n",
    "    )  \n",
    "\n",
    "cols = list(df)\n",
    "cols.insert(4,'message_cleaned')\n",
    "df['message_cleaned'] = df.message.apply(clean_text)\n",
    "df = df[cols]\n",
    "df.head()\n",
    "X, Y = df['message_cleaned'], df[list(df)[5:]]"
   ]
  },
  {
   "cell_type": "markdown",
   "metadata": {},
   "source": [
    "### 3. Build a machine learning pipeline\n",
    "This machine pipeline should take in the `message` column as input and output classification results on the other 36 categories in the dataset. You may find the [MultiOutputClassifier](http://scikit-learn.org/stable/modules/generated/sklearn.multioutput.MultiOutputClassifier.html) helpful for predicting multiple target variables."
   ]
  },
  {
   "cell_type": "code",
   "execution_count": 4,
   "metadata": {},
   "outputs": [],
   "source": [
    "pipeline = Pipeline([\n",
    "    ('tfidf', TfidfVectorizer()),\n",
    "#     ('to_dense', DenseTransformer()),\n",
    "#     ('clf', MultiOutputClassifier(GaussianNB()))\n",
    "    ('clf', MultiOutputClassifier(XGBClassifier()))\n",
    "])"
   ]
  },
  {
   "cell_type": "markdown",
   "metadata": {},
   "source": [
    "### 4. Train pipeline\n",
    "- Split data into train and test sets\n",
    "- Train pipeline"
   ]
  },
  {
   "cell_type": "code",
   "execution_count": 5,
   "metadata": {},
   "outputs": [],
   "source": [
    "X_train, X_test, y_train, y_test = train_test_split(X, Y, test_size=0.33, random_state=42)"
   ]
  },
  {
   "cell_type": "code",
   "execution_count": 5,
   "metadata": {},
   "outputs": [
    {
     "name": "stdout",
     "output_type": "stream",
     "text": [
      "CPU times: user 8min 23s, sys: 4.35 s, total: 8min 27s\n",
      "Wall time: 49.2 s\n"
     ]
    },
    {
     "data": {
      "text/plain": [
       "['model.joblib']"
      ]
     },
     "execution_count": 5,
     "metadata": {},
     "output_type": "execute_result"
    }
   ],
   "source": [
    "%%time\n",
    "# with active_session():\n",
    "pipeline.fit(X_train, y_train)\n",
    "dump(pipeline, 'model.joblib')"
   ]
  },
  {
   "cell_type": "code",
   "execution_count": 6,
   "metadata": {},
   "outputs": [],
   "source": [
    "pipeline = load('model.joblib') "
   ]
  },
  {
   "cell_type": "markdown",
   "metadata": {},
   "source": [
    "### 5. Test your model\n",
    "Report the f1 score, precision and recall for each output category of the dataset. You can do this by iterating through the columns and calling sklearn's `classification_report` on each."
   ]
  },
  {
   "cell_type": "code",
   "execution_count": 7,
   "metadata": {},
   "outputs": [
    {
     "data": {
      "text/plain": [
       "array([['1', '1', '0', ..., '0', '0', '0'],\n",
       "       ['1', '0', '0', ..., '0', '0', '0'],\n",
       "       ['1', '0', '0', ..., '1', '0', '0'],\n",
       "       ...,\n",
       "       ['1', '0', '0', ..., '0', '0', '0'],\n",
       "       ['1', '0', '0', ..., '0', '0', '0'],\n",
       "       ['1', '0', '0', ..., '0', '0', '0']], dtype=object)"
      ]
     },
     "execution_count": 7,
     "metadata": {},
     "output_type": "execute_result"
    }
   ],
   "source": [
    "preds = pipeline.predict(X_test)\n",
    "preds"
   ]
  },
  {
   "cell_type": "code",
   "execution_count": 8,
   "metadata": {},
   "outputs": [
    {
     "name": "stdout",
     "output_type": "stream",
     "text": [
      ">> Possible clf params <<\n",
      "\n",
      "\t estimator__objective\n",
      "\t estimator__base_score\n",
      "\t estimator__booster\n",
      "\t estimator__colsample_bylevel\n",
      "\t estimator__colsample_bynode\n",
      "\t estimator__colsample_bytree\n",
      "\t estimator__gamma\n",
      "\t estimator__gpu_id\n",
      "\t estimator__importance_type\n",
      "\t estimator__interaction_constraints\n",
      "\t estimator__learning_rate\n",
      "\t estimator__max_delta_step\n",
      "\t estimator__max_depth\n",
      "\t estimator__min_child_weight\n",
      "\t estimator__missing\n",
      "\t estimator__monotone_constraints\n",
      "\t estimator__n_estimators\n",
      "\t estimator__n_jobs\n",
      "\t estimator__num_parallel_tree\n",
      "\t estimator__random_state\n",
      "\t estimator__reg_alpha\n",
      "\t estimator__reg_lambda\n",
      "\t estimator__scale_pos_weight\n",
      "\t estimator__subsample\n",
      "\t estimator__tree_method\n",
      "\t estimator__validate_parameters\n",
      "\t estimator__verbosity\n",
      "\t estimator\n",
      "\t n_jobs\n"
     ]
    }
   ],
   "source": [
    "print('>> Possible clf params <<\\n')\n",
    "for i in pipeline.steps[1][1].get_params().keys():\n",
    "    print('\\t', i)"
   ]
  },
  {
   "cell_type": "markdown",
   "metadata": {},
   "source": [
    "### 6. Improve your model\n",
    "Use grid search to find better parameters. "
   ]
  },
  {
   "cell_type": "code",
   "execution_count": 10,
   "metadata": {},
   "outputs": [
    {
     "name": "stdout",
     "output_type": "stream",
     "text": [
      "Fitting 5 folds for each of 96 candidates, totalling 480 fits\n"
     ]
    },
    {
     "name": "stderr",
     "output_type": "stream",
     "text": [
      "[Parallel(n_jobs=8)]: Using backend LokyBackend with 8 concurrent workers.\n",
      "[Parallel(n_jobs=8)]: Done   2 tasks      | elapsed:   59.5s\n",
      "[Parallel(n_jobs=8)]: Done   9 tasks      | elapsed:  2.6min\n",
      "[Parallel(n_jobs=8)]: Done  16 tasks      | elapsed:  4.3min\n",
      "[Parallel(n_jobs=8)]: Done  25 tasks      | elapsed:  6.0min\n",
      "[Parallel(n_jobs=8)]: Done  34 tasks      | elapsed: 10.3min\n",
      "[Parallel(n_jobs=8)]: Done  45 tasks      | elapsed: 13.1min\n",
      "[Parallel(n_jobs=8)]: Done  56 tasks      | elapsed: 19.1min\n",
      "[Parallel(n_jobs=8)]: Done  69 tasks      | elapsed: 24.1min\n",
      "[Parallel(n_jobs=8)]: Done  82 tasks      | elapsed: 32.1min\n",
      "[Parallel(n_jobs=8)]: Done  97 tasks      | elapsed: 42.1min\n",
      "[Parallel(n_jobs=8)]: Done 112 tasks      | elapsed: 52.9min\n",
      "[Parallel(n_jobs=8)]: Done 129 tasks      | elapsed: 66.7min\n",
      "[Parallel(n_jobs=8)]: Done 146 tasks      | elapsed: 83.8min\n",
      "[Parallel(n_jobs=8)]: Done 165 tasks      | elapsed: 95.6min\n",
      "[Parallel(n_jobs=8)]: Done 184 tasks      | elapsed: 101.7min\n",
      "[Parallel(n_jobs=8)]: Done 205 tasks      | elapsed: 109.0min\n",
      "[Parallel(n_jobs=8)]: Done 226 tasks      | elapsed: 120.7min\n",
      "[Parallel(n_jobs=8)]: Done 249 tasks      | elapsed: 136.7min\n",
      "[Parallel(n_jobs=8)]: Done 272 tasks      | elapsed: 157.8min\n",
      "[Parallel(n_jobs=8)]: Done 297 tasks      | elapsed: 184.7min\n",
      "[Parallel(n_jobs=8)]: Done 322 tasks      | elapsed: 209.6min\n",
      "[Parallel(n_jobs=8)]: Done 349 tasks      | elapsed: 221.4min\n",
      "[Parallel(n_jobs=8)]: Done 376 tasks      | elapsed: 234.0min\n",
      "[Parallel(n_jobs=8)]: Done 405 tasks      | elapsed: 248.2min\n",
      "[Parallel(n_jobs=8)]: Done 434 tasks      | elapsed: 272.1min\n",
      "[Parallel(n_jobs=8)]: Done 465 tasks      | elapsed: 296.8min\n",
      "[Parallel(n_jobs=8)]: Done 480 out of 480 | elapsed: 313.7min finished\n"
     ]
    },
    {
     "name": "stdout",
     "output_type": "stream",
     "text": [
      "CPU times: user 19min 10s, sys: 22.1 s, total: 19min 32s\n",
      "Wall time: 5h 15min 33s\n"
     ]
    },
    {
     "data": {
      "text/plain": [
       "GridSearchCV(cv=None, error_score=nan,\n",
       "             estimator=Pipeline(memory=None,\n",
       "                                steps=[('tfidf',\n",
       "                                        TfidfVectorizer(analyzer='word',\n",
       "                                                        binary=False,\n",
       "                                                        decode_error='strict',\n",
       "                                                        dtype=<class 'numpy.float64'>,\n",
       "                                                        encoding='utf-8',\n",
       "                                                        input='content',\n",
       "                                                        lowercase=True,\n",
       "                                                        max_df=1.0,\n",
       "                                                        max_features=None,\n",
       "                                                        min_df=1,\n",
       "                                                        ngram_range=(1, 1),\n",
       "                                                        norm='l2',\n",
       "                                                        preprocessor=None,\n",
       "                                                        smooth_idf=True,\n",
       "                                                        stop_words=None,\n",
       "                                                        strip_...\n",
       "                                                                                      subsample=None,\n",
       "                                                                                      tree_method=None,\n",
       "                                                                                      validate_parameters=None,\n",
       "                                                                                      verbosity=None),\n",
       "                                                              n_jobs=None))],\n",
       "                                verbose=False),\n",
       "             iid='deprecated', n_jobs=8,\n",
       "             param_grid={'clf__estimator__learning_rate': [0.1, 0.01, 0.05],\n",
       "                         'clf__estimator__max_depth': range(2, 10),\n",
       "                         'clf__estimator__n_estimators': range(60, 220, 40)},\n",
       "             pre_dispatch='2*n_jobs', refit=True, return_train_score=False,\n",
       "             scoring=None, verbose=10)"
      ]
     },
     "execution_count": 10,
     "metadata": {},
     "output_type": "execute_result"
    }
   ],
   "source": [
    "%%time\n",
    "\"\"\"Params adapted from:\n",
    "https://towardsdatascience.com/nlp-with-pipeline-gridsearch-5922266e82f4\n",
    "https://www.kaggle.com/tilii7/hyperparameter-grid-search-with-xgboost\n",
    "https://mlfromscratch.com/gridsearch-keras-sklearn/#/\n",
    "\"\"\"\n",
    "params = {\n",
    "#     'tfidf__max_features':[100, 2000],\n",
    "#     'tfidf__ngram_range': [(1, 1), (1, 2), (2, 2)],\n",
    "#     'tfidf__stop_words': [None, 'english'],\n",
    "#     'clf__estimator__min_child_weight': [1, 5, 10],\n",
    "#     'clf__estimator__gamma': [0.5, 1, 1.5, 2, 5],\n",
    "#     'clf__estimator__subsample': [0.6, 0.8, 1.0],\n",
    "#     'clf__estimator__colsample_bytree': [0.6, 0.8, 1.0],\n",
    "#     'clf__estimator__max_depth': [3, 4, 5],\n",
    "    \n",
    "#     'clf__estimator__n_estimators': [400, 700, 1000],\n",
    "#     'clf__estimator__colsample_bytree': [0.7, 0.8],\n",
    "#     'clf__estimator__max_depth': [15,20,25],\n",
    "#     'clf__estimator__reg_alpha': [1.1, 1.2, 1.3],\n",
    "#     'clf__estimator__reg_lambda': [1.1, 1.2, 1.3],\n",
    "#     'clf__estimator__subsample': [0.7, 0.8, 0.9]\n",
    "    'clf__estimator__max_depth': range (2, 10, 1),\n",
    "    'clf__estimator__n_estimators': range(60, 220, 40),\n",
    "    'clf__estimator__learning_rate': [0.1, 0.01, 0.05]\n",
    "}\n",
    "cv = GridSearchCV(pipeline, params, verbose=10, n_jobs=8)\n",
    "cv.fit(X_train, y_train)"
   ]
  },
  {
   "cell_type": "code",
   "execution_count": 11,
   "metadata": {},
   "outputs": [
    {
     "data": {
      "text/plain": [
       "[('tfidf',\n",
       "  TfidfVectorizer(analyzer='word', binary=False, decode_error='strict',\n",
       "                  dtype=<class 'numpy.float64'>, encoding='utf-8',\n",
       "                  input='content', lowercase=True, max_df=1.0, max_features=None,\n",
       "                  min_df=1, ngram_range=(1, 1), norm='l2', preprocessor=None,\n",
       "                  smooth_idf=True, stop_words=None, strip_accents=None,\n",
       "                  sublinear_tf=False, token_pattern='(?u)\\\\b\\\\w\\\\w+\\\\b',\n",
       "                  tokenizer=None, use_idf=True, vocabulary=None)),\n",
       " ('clf',\n",
       "  MultiOutputClassifier(estimator=XGBClassifier(base_score=None, booster=None,\n",
       "                                                colsample_bylevel=None,\n",
       "                                                colsample_bynode=None,\n",
       "                                                colsample_bytree=None, gamma=None,\n",
       "                                                gpu_id=None,\n",
       "                                                importance_type='gain',\n",
       "                                                interaction_constraints=None,\n",
       "                                                learning_rate=0.1,\n",
       "                                                max_delta_step=None, max_depth=8,\n",
       "                                                min_child_weight=None,\n",
       "                                                missing=nan,\n",
       "                                                monotone_constraints=None,\n",
       "                                                n_estimators=180, n_jobs=None,\n",
       "                                                num_parallel_tree=None,\n",
       "                                                objective='binary:logistic',\n",
       "                                                random_state=None, reg_alpha=None,\n",
       "                                                reg_lambda=None,\n",
       "                                                scale_pos_weight=None,\n",
       "                                                subsample=None, tree_method=None,\n",
       "                                                validate_parameters=None,\n",
       "                                                verbosity=None),\n",
       "                        n_jobs=None))]"
      ]
     },
     "execution_count": 11,
     "metadata": {},
     "output_type": "execute_result"
    }
   ],
   "source": [
    "cv.best_estimator_.steps"
   ]
  },
  {
   "cell_type": "markdown",
   "metadata": {},
   "source": [
    "### 7. Test your model\n",
    "Show the accuracy, precision, and recall of the tuned model.  \n",
    "\n",
    "Since this project focuses on code quality, process, and  pipelines, there is no minimum performance metric needed to pass. However, make sure to fine tune your models for accuracy, precision and recall to make your project stand out - especially for your portfolio!"
   ]
  },
  {
   "cell_type": "markdown",
   "metadata": {},
   "source": [
    "### 8. Try improving your model further. Here are a few ideas:\n",
    "* try other machine learning algorithms\n",
    "* add other features besides the TF-IDF"
   ]
  },
  {
   "cell_type": "code",
   "execution_count": null,
   "metadata": {},
   "outputs": [],
   "source": []
  },
  {
   "cell_type": "markdown",
   "metadata": {},
   "source": [
    "### 9. Export your model as a pickle file"
   ]
  },
  {
   "cell_type": "code",
   "execution_count": null,
   "metadata": {},
   "outputs": [],
   "source": []
  },
  {
   "cell_type": "markdown",
   "metadata": {},
   "source": [
    "### 10. Use this notebook to complete `train.py`\n",
    "Use the template file attached in the Resources folder to write a script that runs the steps above to create a database and export a model based on a new dataset specified by the user."
   ]
  },
  {
   "cell_type": "code",
   "execution_count": null,
   "metadata": {},
   "outputs": [],
   "source": []
  }
 ],
 "metadata": {
  "kernelspec": {
   "display_name": "Python 3",
   "language": "python",
   "name": "python3"
  },
  "language_info": {
   "codemirror_mode": {
    "name": "ipython",
    "version": 3
   },
   "file_extension": ".py",
   "mimetype": "text/x-python",
   "name": "python",
   "nbconvert_exporter": "python",
   "pygments_lexer": "ipython3",
   "version": "3.7.4"
  }
 },
 "nbformat": 4,
 "nbformat_minor": 4
}
